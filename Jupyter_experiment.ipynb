{
  "nbformat": 4,
  "nbformat_minor": 0,
  "metadata": {
    "colab": {
      "name": "Jupyter_experiment",
      "provenance": [],
      "collapsed_sections": [],
      "authorship_tag": "ABX9TyMQqqAtwN6W0xiACzpP36IH",
      "include_colab_link": true
    },
    "kernelspec": {
      "name": "python3",
      "display_name": "Python 3"
    },
    "language_info": {
      "name": "python"
    }
  },
  "cells": [
    {
      "cell_type": "markdown",
      "metadata": {
        "id": "view-in-github",
        "colab_type": "text"
      },
      "source": [
        "<a href=\"https://colab.research.google.com/github/KMate-ISD/Machine_learning/blob/main/Jupyter_experiment.ipynb\" target=\"_parent\"><img src=\"https://colab.research.google.com/assets/colab-badge.svg\" alt=\"Open In Colab\"/></a>"
      ]
    },
    {
      "cell_type": "markdown",
      "metadata": {
        "id": "rCUFnW4vej87"
      },
      "source": [
        "## This is a level 2 header\n",
        "\n",
        "||Item A|Item B|\n",
        "|:-|-:|-:|\n",
        "|`set A`|233|103|\n",
        "|`set B`|244|89|\n",
        "\n",
        "### $$N(0, 1)\\to\\varphi(\\frac{x-0}{1})$$\n",
        "$$f(x)=\\frac{1}{\\sqrt{2\\pi}}e^{-\\frac{t^2}{2}}$$"
      ]
    },
    {
      "cell_type": "code",
      "metadata": {
        "id": "eQI5TB9lcFEC"
      },
      "source": [
        "import sys\n",
        "sys.version_info"
      ],
      "execution_count": null,
      "outputs": []
    },
    {
      "cell_type": "code",
      "metadata": {
        "id": "P-s1jC-1h6-B"
      },
      "source": [
        "%time\n",
        "print('\\nTable of squares')\n",
        "for i in range(10):\n",
        "  print(f'{i} times {i} equals {i*i}.')"
      ],
      "execution_count": null,
      "outputs": []
    },
    {
      "cell_type": "markdown",
      "metadata": {
        "id": "WIcqDc9GbXIk"
      },
      "source": [
        "### String interpolation"
      ]
    },
    {
      "cell_type": "code",
      "metadata": {
        "id": "aHf1FxjVpYkj"
      },
      "source": [
        "e=2.1718281828\n",
        "answer=42\n",
        "message='Henlo Worl'\n",
        "\n",
        "'The ultimate answer is %.2e and not %.5f. Or is it?' % (answer, e)\n",
        "#\"Let's print the default string: {msg}\".format(msg=message)\n",
        "#f'{bool(15)}'"
      ],
      "execution_count": null,
      "outputs": []
    },
    {
      "cell_type": "code",
      "metadata": {
        "id": "UsnpS5eIOvwJ"
      },
      "source": [
        "k=123.9\n",
        "num='number'\n",
        "\n",
        "# Python 3.6+\n",
        "print(f\"The {num} stored as 'k' is %+#F innit blud\" % k)"
      ],
      "execution_count": null,
      "outputs": []
    },
    {
      "cell_type": "markdown",
      "metadata": {
        "id": "2ud0DUfqfNbH"
      },
      "source": [
        "### Cycles"
      ]
    },
    {
      "cell_type": "code",
      "metadata": {
        "id": "egrGcgyZG-gK"
      },
      "source": [
        "lista=[1,2,3]\n",
        "listb=[2,2,2]\n",
        "dotProduct=0.\n",
        "\n",
        "for i in range(len(lista)):\n",
        "  dotProduct+=lista[i]*listb[i]\n",
        "\n",
        "print(f'{dotProduct:.2f}')"
      ],
      "execution_count": null,
      "outputs": []
    },
    {
      "cell_type": "code",
      "metadata": {
        "id": "CPaMaJgfQ6Jb"
      },
      "source": [
        "lista=[1,2,3]\n",
        "listb=[2,2,2,8]\n",
        "dotProduct=0.\n",
        "\n",
        "# implying that the missing parts are actually 0s for those dimensions\n",
        "\n",
        "shorterLength=min(len(lista),len(listb))\n",
        "\n",
        "for i in range(shorterLength):\n",
        "  if i < shorterLength:\n",
        "    dotProduct+=lista[i]*listb[i]\n",
        "\n",
        "print(f'{dotProduct:.2f}')"
      ],
      "execution_count": null,
      "outputs": []
    },
    {
      "cell_type": "markdown",
      "metadata": {
        "id": "eG3-tZ9ReMif"
      },
      "source": [
        "### Dictionaries"
      ]
    },
    {
      "cell_type": "code",
      "metadata": {
        "id": "pKAf_cb_ePSn"
      },
      "source": [
        "dict={'a':1,'b':2,'c':3}\n",
        "\n",
        "for letter, number in dict.items():\n",
        "  print(f'The corresponding value for key {letter} is {number:02b}.')"
      ],
      "execution_count": null,
      "outputs": []
    }
  ]
}