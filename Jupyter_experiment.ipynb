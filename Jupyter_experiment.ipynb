{
  "nbformat": 4,
  "nbformat_minor": 0,
  "metadata": {
    "colab": {
      "name": "Jupyter_experiment",
      "provenance": [],
      "collapsed_sections": [],
      "authorship_tag": "ABX9TyOSYOzeGm7OHtqfIJnJg53M",
      "include_colab_link": true
    },
    "kernelspec": {
      "name": "python3",
      "display_name": "Python 3"
    },
    "language_info": {
      "name": "python"
    }
  },
  "cells": [
    {
      "cell_type": "markdown",
      "metadata": {
        "id": "view-in-github",
        "colab_type": "text"
      },
      "source": [
        "<a href=\"https://colab.research.google.com/github/KMate-ISD/Machine_learning/blob/main/Jupyter_experiment.ipynb\" target=\"_parent\"><img src=\"https://colab.research.google.com/assets/colab-badge.svg\" alt=\"Open In Colab\"/></a>"
      ]
    },
    {
      "cell_type": "markdown",
      "metadata": {
        "id": "rCUFnW4vej87"
      },
      "source": [
        "## This is a level 2 header\n",
        "\n",
        "||Item A|Item B|\n",
        "|:-|-:|-:|\n",
        "|`set A`|233|103|\n",
        "|`set B`|244|89|\n",
        "\n",
        "### $$N(0, 1)\\to\\varphi(\\frac{x-0}{1})$$\n",
        "$$f(x)=\\frac{1}{\\sqrt{2\\pi}}e^{-\\frac{t^2}{2}}$$"
      ]
    },
    {
      "cell_type": "code",
      "metadata": {
        "id": "eQI5TB9lcFEC"
      },
      "source": [
        "import sys\n",
        "sys.version_info"
      ],
      "execution_count": null,
      "outputs": []
    },
    {
      "cell_type": "code",
      "metadata": {
        "id": "P-s1jC-1h6-B"
      },
      "source": [
        "%time\n",
        "print('\\nTable of squares')\n",
        "for i in range(10):\n",
        "  print(f'{i} times {i} equals {i*i}.')"
      ],
      "execution_count": null,
      "outputs": []
    },
    {
      "cell_type": "markdown",
      "metadata": {
        "id": "WIcqDc9GbXIk"
      },
      "source": [
        "## String interpolation"
      ]
    },
    {
      "cell_type": "code",
      "metadata": {
        "id": "aHf1FxjVpYkj"
      },
      "source": [
        "e=2.1718281828\n",
        "answer=42\n",
        "message='Henlo Worl'\n",
        "\n",
        "'The ultimate answer is %.2e and not %.5f. Or is it?' % (answer, e)\n",
        "#\"Let's print the default string: {msg}\".format(msg=message)\n",
        "#f'{bool(15)}'"
      ],
      "execution_count": null,
      "outputs": []
    },
    {
      "cell_type": "code",
      "metadata": {
        "id": "UsnpS5eIOvwJ"
      },
      "source": [
        "k=123.9\n",
        "num='number'\n",
        "\n",
        "# Python 3.6+\n",
        "print(f\"The {num} stored as 'k' is %+#F innit blud\" % k)"
      ],
      "execution_count": null,
      "outputs": []
    },
    {
      "cell_type": "code",
      "metadata": {
        "colab": {
          "base_uri": "https://localhost:8080/"
        },
        "id": "egrGcgyZG-gK",
        "outputId": "1abeffae-fe23-4077-e911-830fe275eaf0"
      },
      "source": [
        "lista=[1,2,3]\n",
        "listb=[2,2,2]\n",
        "dotProduct=0.\n",
        "\n",
        "for i in range(len(lista)):\n",
        "  dotProduct+=lista[i]*listb[i]\n",
        "\n",
        "print(f'{dotProduct:.2f}')"
      ],
      "execution_count": 38,
      "outputs": [
        {
          "output_type": "stream",
          "text": [
            "12.00\n"
          ],
          "name": "stdout"
        }
      ]
    },
    {
      "cell_type": "code",
      "metadata": {
        "colab": {
          "base_uri": "https://localhost:8080/"
        },
        "id": "CPaMaJgfQ6Jb",
        "outputId": "a94c05b5-04a3-4362-f55c-6ebc81239ad8"
      },
      "source": [
        "lista=[1,2,3]\n",
        "listb=[2,2,2,8]\n",
        "dotProduct=0.\n",
        "\n",
        "# implying that the missing parts are actually 0s for those dimensions\n",
        "\n",
        "shorterLength=min(len(lista),len(listb))\n",
        "\n",
        "for i in range(shorterLength):\n",
        "  if i < shorterLength:\n",
        "    dotProduct+=lista[i]*listb[i]\n",
        "\n",
        "print(f'{dotProduct:.2f}')"
      ],
      "execution_count": 44,
      "outputs": [
        {
          "output_type": "stream",
          "text": [
            "12.00\n"
          ],
          "name": "stdout"
        }
      ]
    }
  ]
}