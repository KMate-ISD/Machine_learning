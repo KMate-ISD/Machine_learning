{
  "nbformat": 4,
  "nbformat_minor": 0,
  "metadata": {
    "colab": {
      "name": "Jupyter_experiment",
      "provenance": [],
      "collapsed_sections": [],
      "authorship_tag": "ABX9TyP10j1NOKIBHl2oMFxQVKF7",
      "include_colab_link": true
    },
    "kernelspec": {
      "name": "python3",
      "display_name": "Python 3"
    },
    "language_info": {
      "name": "python"
    }
  },
  "cells": [
    {
      "cell_type": "markdown",
      "metadata": {
        "id": "view-in-github",
        "colab_type": "text"
      },
      "source": [
        "<a href=\"https://colab.research.google.com/github/KMate-ISD/Machine_learning/blob/main/Jupyter_experiment.ipynb\" target=\"_parent\"><img src=\"https://colab.research.google.com/assets/colab-badge.svg\" alt=\"Open In Colab\"/></a>"
      ]
    },
    {
      "cell_type": "markdown",
      "metadata": {
        "id": "JAz_7-qYhSVT"
      },
      "source": [
        ""
      ]
    },
    {
      "cell_type": "markdown",
      "metadata": {
        "id": "rCUFnW4vej87"
      },
      "source": [
        "## Jupyter/Python practice"
      ]
    },
    {
      "cell_type": "markdown",
      "metadata": {
        "id": "sBwRoJwWX7IQ"
      },
      "source": [
        "### General / LaTeX\n",
        "#### Tables\n",
        "\n",
        "||Item A|Item B|\n",
        "|:-|-:|-:|\n",
        "|`set A`|233|103|\n",
        "|`set B`|244|89|\n",
        "\n",
        "#### normális eloszlás standardizációja\n",
        "\n",
        "### $$\\phi: N(0, 1)$$\n",
        "$$F(x)\\to\\phi(\\frac{x-m}{\\sigma})$$\n",
        "\n",
        "#### és sűrűségfüggvénye:\n",
        "\n",
        "$$f(x)=\\frac{1}{\\sigma\\sqrt{2\\pi}}e^{-\\frac{(t-m)^2}{2\\sigma^2}}$$"
      ]
    },
    {
      "cell_type": "code",
      "metadata": {
        "id": "eQI5TB9lcFEC"
      },
      "source": [
        "import sys\n",
        "sys.version_info"
      ],
      "execution_count": null,
      "outputs": []
    },
    {
      "cell_type": "markdown",
      "metadata": {
        "id": "WIcqDc9GbXIk"
      },
      "source": [
        "### String interpolation"
      ]
    },
    {
      "cell_type": "code",
      "metadata": {
        "id": "UsnpS5eIOvwJ"
      },
      "source": [
        "k=math.e\n",
        "num='number'\n",
        "\n",
        "#f'{bool(15)}'\n",
        "\n",
        "print(\"The %s stored as 'k' is %+10.5F sample text\" % (num, k))\n",
        "print(\"The {0} stored as 'k' is {1:+10.5F} sample text\".format(num, k))\n",
        "print(\"The {n} stored as 'k' is {k:+10.5F} sample text\".format(n=num, k=k))\n",
        "\n",
        "# Python 3.6+\n",
        "print(f\"The {num} stored as 'k' is {k:+10.5f} sample text\")"
      ],
      "execution_count": null,
      "outputs": []
    },
    {
      "cell_type": "markdown",
      "metadata": {
        "id": "2ud0DUfqfNbH"
      },
      "source": [
        "### Ciklusok"
      ]
    },
    {
      "cell_type": "code",
      "metadata": {
        "id": "CPaMaJgfQ6Jb"
      },
      "source": [
        "# skaláris szorzat\n",
        "\n",
        "lista=[1,2,3]\n",
        "listb=[2,2,2,8]\n",
        "dotProduct=0.\n",
        "\n",
        "# feltéve, hogy a hiányzó koordináták 0-nak vehetők abban a dimenzióban\n",
        "\n",
        "shorterLength=min(len(lista),len(listb))\n",
        "\n",
        "for i in range(shorterLength):\n",
        "  if i < shorterLength:\n",
        "    dotProduct+=lista[i]*listb[i]\n",
        "\n",
        "print(f'{dotProduct:.2f}')"
      ],
      "execution_count": null,
      "outputs": []
    },
    {
      "cell_type": "markdown",
      "metadata": {
        "id": "eG3-tZ9ReMif"
      },
      "source": [
        "### Dictionaries"
      ]
    },
    {
      "cell_type": "code",
      "metadata": {
        "id": "pKAf_cb_ePSn"
      },
      "source": [
        "dict={'a':1,'b':2,'c':3}\n",
        "\n",
        "for letter, number in dict.items():\n",
        "  print(f'The corresponding value for key {letter} is {number:02b}.')"
      ],
      "execution_count": null,
      "outputs": []
    },
    {
      "cell_type": "markdown",
      "metadata": {
        "id": "-Lw4s8XegzKA"
      },
      "source": [
        "### Functions, methods"
      ]
    },
    {
      "cell_type": "code",
      "metadata": {
        "id": "NBzzArNpg2BA"
      },
      "source": [
        "# List functions and methods of a class via .dir\n",
        "\n",
        "import math\n",
        "\n",
        "i = 0\n",
        "for command in dir(math):\n",
        "  i += 1\n",
        "  print(f'{i:3}: {command}')"
      ],
      "execution_count": null,
      "outputs": []
    },
    {
      "cell_type": "code",
      "metadata": {
        "id": "m5vBkednvL8k"
      },
      "source": [
        "# tapasztalati / korrigált tapasztalati szórás tuple-lel\n",
        "\n",
        "def stdev_population_sample(sample):\n",
        "  n=len(sample)\n",
        "\n",
        "  average=0.0\n",
        "  for item in sample:\n",
        "    average+=item\n",
        "  average/=n\n",
        "\n",
        "  stdev_population=0.0\n",
        "  stdev_sample=0.0\n",
        "  for item in sample:\n",
        "    stdev_population+=pow(average-item,2)\n",
        "  stdev_sample=stdev_population\n",
        "\n",
        "  stdev_population/=n\n",
        "  stdev_sample/=n-1\n",
        "\n",
        "  return(math.sqrt(stdev_population), math.sqrt(stdev_sample))\n",
        "\n",
        "stdev_population_sample([23,26,25,19,23,28,25,25])\n"
      ],
      "execution_count": null,
      "outputs": []
    },
    {
      "cell_type": "markdown",
      "metadata": {
        "id": "jJFKnpR9lsCg"
      },
      "source": [
        "### Classes, OOP"
      ]
    },
    {
      "cell_type": "code",
      "metadata": {
        "id": "PurEhn-Rlu_P"
      },
      "source": [
        "import math\n",
        "\n",
        "class Sample(object):\n",
        "  def __init__(self, description):\n",
        "    self.__avg=0.0\n",
        "    self.__description=description\n",
        "    self.__is_avg_changed=False\n",
        "    self.__is_variance_changed=False\n",
        "    self.__is_stdev_changed=False\n",
        "    self.__items=[]\n",
        "    self.__items_new=[]\n",
        "    self.__variance=0.0\n",
        "    self.__stdev=0.0\n",
        "\n",
        "  def __str__(self):\n",
        "    return f'{self.get_description()}\\nSample size: {self.get_sample_size():8d}\\nSample mean: {self.calculate_sample_mean():8.3f}\\nSample stDev: {self.calculate_standard_deviation():7.3f}'\n",
        "  \n",
        "  def add_sample_item(self, item):\n",
        "    self.__items.append(item)\n",
        "    self.__is_avg_changed=True\n",
        "    self.__is_variance_changed=True\n",
        "    self.__is_stdev_changed=True\n",
        "\n",
        "  def calculate_sample_mean(self):\n",
        "    if self.__is_avg_changed==True:\n",
        "      self.__avg=0.0\n",
        "      for item in self.__items:\n",
        "        self.__avg+=item\n",
        "      self.__avg/=self.get_sample_size()\n",
        "      self.__is_avg_changed=False\n",
        "    return self.__avg\n",
        "\n",
        "  # Korrigált empírikus szórásnégyzet, ha a mintanagyság < 20\n",
        "  def calculate_variance(self):\n",
        "    if self.__is_variance_changed==True:\n",
        "      self.__variance=0.0\n",
        "      for item in self.__items:\n",
        "        self.__variance+=math.pow(self.__avg-item,2)\n",
        "      if self.get_sample_size() < 20:\n",
        "        self.__variance/=self.get_sample_size()-1\n",
        "      else:\n",
        "        self.__variance/=self.get_sample_size()\n",
        "      self.__is_variance_changed=False\n",
        "    return self.__variance\n",
        "  \n",
        "  def calculate_standard_deviation(self):\n",
        "    if self.__is_stdev_changed==True:\n",
        "      self.__stdev=math.sqrt(self.calculate_variance())\n",
        "    return self.__stdev\n",
        "\n",
        "  def clear_sample(self):\n",
        "    self.__items.clear()\n",
        "    self.__items_new.clear()\n",
        "    self.__avg=0.0\n",
        "    self.__variance=0.0\n",
        "    self.__stdev=0.0\n",
        "    self.__is_avg_changed=False\n",
        "    self.__is_variance_changed=False\n",
        "    self.__is_stdev_changed=False\n",
        "\n",
        "  def get_description(self):\n",
        "    return self.__description\n",
        "  \n",
        "  def get_sample(self):\n",
        "    if len(self.__items_new) > 0:\n",
        "      self.__items.extend(self.__items_new)\n",
        "    return self.__items\n",
        "  \n",
        "  def get_sample_size(self):\n",
        "    return len(self.__items)"
      ],
      "execution_count": 19,
      "outputs": []
    },
    {
      "cell_type": "markdown",
      "metadata": {
        "id": "5Gu72WH9UfKK"
      },
      "source": [
        "### Test Sample class"
      ]
    },
    {
      "cell_type": "code",
      "metadata": {
        "id": "6wOS7FFrUh_6",
        "colab": {
          "base_uri": "https://localhost:8080/"
        },
        "outputId": "f272598f-fcee-4e37-9799-79045cf06b69"
      },
      "source": [
        "import time\n",
        "import random\n",
        "\n",
        "spl=Sample('This is a test sample')\n",
        "spl.clear_sample()\n",
        "\n",
        "experiment=[]\n",
        "for i in range(1000000):\n",
        "  experiment.append(random.randrange(158,193))\n",
        "\n",
        "for outcome in experiment:\n",
        "  spl.add_sample_item(outcome)\n",
        "\n",
        "%time\n",
        "spl.add_sample_item(188)\n",
        "\n",
        "tik=time.perf_counter()\n",
        "print(f'\\n{spl}')\n",
        "tak=time.perf_counter()\n",
        "print(f'Time elapsed: {tak-tik:<10.5f}')\n",
        "\n",
        "# hatékonyság tesztelése (caching)\n",
        "tik=time.perf_counter()\n",
        "print(f'\\n{spl}')\n",
        "tak=time.perf_counter()\n",
        "print(f'Time elapsed: {tak-tik:<10.5f}')"
      ],
      "execution_count": 20,
      "outputs": [
        {
          "output_type": "stream",
          "text": [
            "CPU times: user 3 µs, sys: 0 ns, total: 3 µs\n",
            "Wall time: 5.72 µs\n",
            "\n",
            "This is a test sample\n",
            "Sample size:  1000001\n",
            "Sample mean:  174.994\n",
            "Sample stDev:  10.099\n",
            "Time elapsed: 0.50864   \n",
            "\n",
            "This is a test sample\n",
            "Sample size:  1000001\n",
            "Sample mean:  174.994\n",
            "Sample stDev:  10.099\n",
            "Time elapsed: 0.00015   \n"
          ],
          "name": "stdout"
        }
      ]
    }
  ]
}