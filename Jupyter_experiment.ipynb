{
  "nbformat": 4,
  "nbformat_minor": 0,
  "metadata": {
    "colab": {
      "name": "Jupyter_experiment",
      "provenance": [],
      "authorship_tag": "ABX9TyP4AXwWVsDG1q2mlVl8IzUn",
      "include_colab_link": true
    },
    "kernelspec": {
      "name": "python3",
      "display_name": "Python 3"
    },
    "language_info": {
      "name": "python"
    }
  },
  "cells": [
    {
      "cell_type": "markdown",
      "metadata": {
        "id": "view-in-github",
        "colab_type": "text"
      },
      "source": [
        "<a href=\"https://colab.research.google.com/github/KMate-ISD/Machine_learning/blob/main/Jupyter_experiment.ipynb\" target=\"_parent\"><img src=\"https://colab.research.google.com/assets/colab-badge.svg\" alt=\"Open In Colab\"/></a>"
      ]
    },
    {
      "cell_type": "markdown",
      "metadata": {
        "id": "rCUFnW4vej87"
      },
      "source": [
        "## This is a level 2 header\n",
        "\n",
        "||Item A|Item B|\n",
        "|:-|-:|-:|\n",
        "|`set A`|233|103|\n",
        "|`set B`|244|89|\n",
        "\n",
        "### $$N(0, 1)\\to\\varphi(\\frac{x-0}{1})$$\n",
        "$$f(x)=\\frac{1}{\\sqrt{2\\pi}}e^{-\\frac{t^2}{2}}$$"
      ]
    },
    {
      "cell_type": "code",
      "metadata": {
        "colab": {
          "base_uri": "https://localhost:8080/"
        },
        "id": "P-s1jC-1h6-B",
        "outputId": "d38acead-1e27-49e4-e76e-b72f9955d8fd"
      },
      "source": [
        "%time\n",
        "print('\\nTable of squares')\n",
        "for i in range(10):\n",
        "  print(f'{i} times {i} equals {i*i}.')"
      ],
      "execution_count": 3,
      "outputs": [
        {
          "output_type": "stream",
          "text": [
            "CPU times: user 2 µs, sys: 0 ns, total: 2 µs\n",
            "Wall time: 5.25 µs\n",
            "\n",
            "Table of squares\n",
            "0 times 0 equals 0.\n",
            "1 times 1 equals 1.\n",
            "2 times 2 equals 4.\n",
            "3 times 3 equals 9.\n",
            "4 times 4 equals 16.\n",
            "5 times 5 equals 25.\n",
            "6 times 6 equals 36.\n",
            "7 times 7 equals 49.\n",
            "8 times 8 equals 64.\n",
            "9 times 9 equals 81.\n"
          ],
          "name": "stdout"
        }
      ]
    }
  ]
}