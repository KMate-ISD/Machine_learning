{
  "nbformat": 4,
  "nbformat_minor": 0,
  "metadata": {
    "colab": {
      "name": "Jupyter_experiment",
      "provenance": [],
      "collapsed_sections": [],
      "authorship_tag": "ABX9TyO4HzDUTaanM3rMdejtvss7",
      "include_colab_link": true
    },
    "kernelspec": {
      "name": "python3",
      "display_name": "Python 3"
    },
    "language_info": {
      "name": "python"
    }
  },
  "cells": [
    {
      "cell_type": "markdown",
      "metadata": {
        "id": "view-in-github",
        "colab_type": "text"
      },
      "source": [
        "<a href=\"https://colab.research.google.com/github/KMate-ISD/Machine_learning/blob/main/Jupyter_experiment.ipynb\" target=\"_parent\"><img src=\"https://colab.research.google.com/assets/colab-badge.svg\" alt=\"Open In Colab\"/></a>"
      ]
    },
    {
      "cell_type": "markdown",
      "metadata": {
        "id": "JAz_7-qYhSVT"
      },
      "source": [
        ""
      ]
    },
    {
      "cell_type": "markdown",
      "metadata": {
        "id": "rCUFnW4vej87"
      },
      "source": [
        "## Jupyter/Python practice"
      ]
    },
    {
      "cell_type": "markdown",
      "metadata": {
        "id": "sBwRoJwWX7IQ"
      },
      "source": [
        "### General / LaTeX\n",
        "#### Tables\n",
        "\n",
        "||Item A|Item B|\n",
        "|:-|-:|-:|\n",
        "|`set A`|233|103|\n",
        "|`set B`|244|89|\n",
        "\n",
        "#### normális eloszlás standardizációja\n",
        "\n",
        "### $$\\phi: N(0, 1)$$\n",
        "$$F(x)\\to\\phi(\\frac{x-m}{\\sigma})$$\n",
        "\n",
        "#### és sűrűségfüggvénye:\n",
        "\n",
        "$$f(x)=\\frac{1}{\\sigma\\sqrt{2\\pi}}e^{-\\frac{(t-m)^2}{2\\sigma^2}}$$"
      ]
    },
    {
      "cell_type": "code",
      "metadata": {
        "id": "eQI5TB9lcFEC"
      },
      "source": [
        "import sys\n",
        "sys.version_info"
      ],
      "execution_count": null,
      "outputs": []
    },
    {
      "cell_type": "markdown",
      "metadata": {
        "id": "WIcqDc9GbXIk"
      },
      "source": [
        "### String interpolation"
      ]
    },
    {
      "cell_type": "code",
      "metadata": {
        "id": "UsnpS5eIOvwJ"
      },
      "source": [
        "k=math.e\n",
        "num='number'\n",
        "\n",
        "#f'{bool(15)}'\n",
        "\n",
        "print(\"The %s stored as 'k' is %+10.5F sample text\" % (num, k))\n",
        "print(\"The {0} stored as 'k' is {1:+10.5F} sample text\".format(num, k))\n",
        "print(\"The {n} stored as 'k' is {k:+10.5F} sample text\".format(n=num, k=k))\n",
        "\n",
        "# Python 3.6+\n",
        "print(f\"The {num} stored as 'k' is {k:+10.5f} sample text\")"
      ],
      "execution_count": null,
      "outputs": []
    },
    {
      "cell_type": "markdown",
      "metadata": {
        "id": "2ud0DUfqfNbH"
      },
      "source": [
        "### Ciklusok"
      ]
    },
    {
      "cell_type": "code",
      "metadata": {
        "id": "CPaMaJgfQ6Jb"
      },
      "source": [
        "# skaláris szorzat\n",
        "\n",
        "lista=[1,2,3]\n",
        "listb=[2,2,2,8]\n",
        "dotProduct=0.\n",
        "\n",
        "# feltéve, hogy a hiányzó koordináták 0-nak vehetők abban a dimenzióban\n",
        "\n",
        "shorterLength=min(len(lista),len(listb))\n",
        "\n",
        "for i in range(shorterLength):\n",
        "  if i < shorterLength:\n",
        "    dotProduct+=lista[i]*listb[i]\n",
        "\n",
        "print(f'{dotProduct:.2f}')"
      ],
      "execution_count": null,
      "outputs": []
    },
    {
      "cell_type": "markdown",
      "metadata": {
        "id": "eG3-tZ9ReMif"
      },
      "source": [
        "### Dictionaries"
      ]
    },
    {
      "cell_type": "code",
      "metadata": {
        "id": "pKAf_cb_ePSn"
      },
      "source": [
        "dict={'a':1,'b':2,'c':3}\n",
        "\n",
        "for letter, number in dict.items():\n",
        "  print(f'The corresponding value for key {letter} is {number:02b}.')"
      ],
      "execution_count": null,
      "outputs": []
    },
    {
      "cell_type": "markdown",
      "metadata": {
        "id": "-Lw4s8XegzKA"
      },
      "source": [
        "### Functions, methods"
      ]
    },
    {
      "cell_type": "code",
      "metadata": {
        "id": "NBzzArNpg2BA"
      },
      "source": [
        "# List functions and methods of a class via .dir\n",
        "\n",
        "import math\n",
        "\n",
        "i = 0\n",
        "for command in dir(math):\n",
        "  i += 1\n",
        "  print(f'{i:3}: {command}')"
      ],
      "execution_count": null,
      "outputs": []
    },
    {
      "cell_type": "code",
      "metadata": {
        "id": "m5vBkednvL8k"
      },
      "source": [
        "# tapasztalati / korrigált tapasztalati szórás tuple-lel\n",
        "\n",
        "def stdev_population_sample(sample):\n",
        "  n=len(sample)\n",
        "\n",
        "  average=0.0\n",
        "  for item in sample:\n",
        "    average+=item\n",
        "  average/=n\n",
        "\n",
        "  stdev_population=0.0\n",
        "  stdev_sample=0.0\n",
        "  for item in sample:\n",
        "    stdev_population+=pow(average-item,2)\n",
        "  stdev_sample=stdev_population\n",
        "\n",
        "  stdev_population/=n\n",
        "  stdev_sample/=n-1\n",
        "\n",
        "  return(math.sqrt(stdev_population), math.sqrt(stdev_sample))\n",
        "\n",
        "stdev_population_sample([23,26,25,19,23,28,25,25])\n"
      ],
      "execution_count": null,
      "outputs": []
    },
    {
      "cell_type": "markdown",
      "metadata": {
        "id": "jJFKnpR9lsCg"
      },
      "source": [
        "### Classes, OOP"
      ]
    },
    {
      "cell_type": "code",
      "metadata": {
        "id": "PurEhn-Rlu_P"
      },
      "source": [
        "import math\n",
        "\n",
        "class Sample(object):\n",
        "  def __init__(self, description):\n",
        "    self.__avg=0.0\n",
        "    self.__description=description\n",
        "    self.__is_avg_changed=False\n",
        "    self.__is_n_changed=False\n",
        "    self.__is_variance_changed=False\n",
        "    self.__is_stdev_changed=False\n",
        "    self.__items=[]\n",
        "    self.__n=0\n",
        "    self.__variance=0.0\n",
        "    self.__stdev=0.0\n",
        "  \n",
        "  def addItem(self, item):\n",
        "    self.__items.append(item)\n",
        "    self.__is_avg_changed=True\n",
        "    self.__is_n_changed=True\n",
        "    self.__is_variance_changed=True\n",
        "    self.__is_stdev_changed=True\n",
        "\n",
        "  def clearItems(self):\n",
        "    self.__items.clear()\n",
        "    self.__avg=0.0\n",
        "    self.__n=0\n",
        "    self.__variance=0.0\n",
        "    self.__stdev=0.0\n",
        "    self.__is_avg_changed=False\n",
        "    self.__is_n_changed=False\n",
        "    self.__is_variance_changed=False\n",
        "    self.__is_stdev_changed=False\n",
        "  \n",
        "  def calculate_sample_size(self):\n",
        "    if self.__is_n_changed==True:\n",
        "      self.__n=len(self.__items)\n",
        "      self.__is_n_changed=False\n",
        "    return self.__n\n",
        "\n",
        "  def calculate_sample_mean(self):\n",
        "    if self.__is_avg_changed==True:\n",
        "      self.__avg=0.0\n",
        "      for item in self.__items:\n",
        "        self.__avg+=item\n",
        "      self.__avg/=self.calculate_sample_size()\n",
        "      self.__is_avg_changed=False\n",
        "    return self.__avg\n",
        "\n",
        "  # Korrigált empírikus szórásnégyzet, ha a mintanagyság < 20\n",
        "  def calculate_variance(self):\n",
        "    if self.__is_variance_changed==True:\n",
        "      self.__variance=0.0\n",
        "      for item in self.__items:\n",
        "        self.__variance+=math.pow(self.__avg-item,2)\n",
        "      if self.calculate_sample_size() < 20:\n",
        "        self.__variance/=self.calculate_sample_size()-1\n",
        "      else:\n",
        "        self.__variance/=self.calculate_sample_size()\n",
        "      self.__is_variance_changed=False\n",
        "    return self.__variance\n",
        "  \n",
        "  def calculate_standard_deviation(self):\n",
        "    if self.__is_stdev_changed==True:\n",
        "      self.__stdev=math.sqrt(self.calculate_variance())\n",
        "    return self.__stdev\n",
        "\n",
        "  def show_description(self):\n",
        "    return self.__description\n",
        "  \n",
        "  def get_items(self):\n",
        "    return self.__items\n",
        "\n",
        "  def __str__(self):\n",
        "    return '{descr}\\nSample size: {n:8d}\\nSample mean: {mean:8.3f}\\nSample stDev: {stdev:7.3f}'.format(descr=spl.show_description(), n=spl.calculate_sample_size(), mean=spl.calculate_sample_mean(), stdev=spl.calculate_standard_deviation())"
      ],
      "execution_count": null,
      "outputs": []
    },
    {
      "cell_type": "markdown",
      "metadata": {
        "id": "5Gu72WH9UfKK"
      },
      "source": [
        "### Test Sample class"
      ]
    },
    {
      "cell_type": "code",
      "metadata": {
        "colab": {
          "base_uri": "https://localhost:8080/"
        },
        "id": "6wOS7FFrUh_6",
        "outputId": "cd3785bb-785d-43e3-9cd4-4f1cfb8afdef"
      },
      "source": [
        "import time\n",
        "import random\n",
        "\n",
        "spl=Sample('This is a test sample')\n",
        "spl.clearItems()\n",
        "\n",
        "experiment=[]\n",
        "for i in range(1000000):\n",
        "  experiment.append(random.randrange(158,193))\n",
        "\n",
        "for outcome in experiment:\n",
        "  spl.addItem(outcome)\n",
        "\n",
        "%time\n",
        "spl.addItem(188)\n",
        "\n",
        "tik=time.perf_counter()\n",
        "print(f'\\n{spl}')\n",
        "tak=time.perf_counter()\n",
        "print(f'Time elapsed: {tak-tik:<10.5f}')\n",
        "\n",
        "# hatékonyság tesztelése (caching)\n",
        "tik=time.perf_counter()\n",
        "print(f'\\n{spl}')\n",
        "tak=time.perf_counter()\n",
        "print(f'Time elapsed: {tak-tik:<10.5f}')"
      ],
      "execution_count": 142,
      "outputs": [
        {
          "output_type": "stream",
          "text": [
            "CPU times: user 2 µs, sys: 0 ns, total: 2 µs\n",
            "Wall time: 6.2 µs\n",
            "\n",
            "This is a test sample\n",
            "Sample size:  1000001\n",
            "Sample mean:  175.016\n",
            "Sample stDev:  10.100\n",
            "Time elapsed: 0.49782   \n",
            "\n",
            "This is a test sample\n",
            "Sample size:  1000001\n",
            "Sample mean:  175.016\n",
            "Sample stDev:  10.100\n",
            "Time elapsed: 0.00046   \n"
          ],
          "name": "stdout"
        }
      ]
    }
  ]
}