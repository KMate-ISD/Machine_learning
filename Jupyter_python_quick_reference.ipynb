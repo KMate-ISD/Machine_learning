{
  "nbformat": 4,
  "nbformat_minor": 0,
  "metadata": {
    "colab": {
      "name": "Jupyter_experiment",
      "provenance": [],
      "collapsed_sections": [],
      "authorship_tag": "ABX9TyN40qi3EqTp6Zm7Lrt5kJ+f",
      "include_colab_link": true
    },
    "kernelspec": {
      "name": "python3",
      "display_name": "Python 3"
    },
    "language_info": {
      "name": "python"
    }
  },
  "cells": [
    {
      "cell_type": "markdown",
      "metadata": {
        "id": "view-in-github",
        "colab_type": "text"
      },
      "source": [
        "<a href=\"https://colab.research.google.com/github/KMate-ISD/Machine_learning/blob/main/Jupyter_experiment.ipynb\" target=\"_parent\"><img src=\"https://colab.research.google.com/assets/colab-badge.svg\" alt=\"Open In Colab\"/></a>"
      ]
    },
    {
      "cell_type": "markdown",
      "metadata": {
        "id": "JAz_7-qYhSVT"
      },
      "source": [
        ""
      ]
    },
    {
      "cell_type": "markdown",
      "metadata": {
        "id": "rCUFnW4vej87"
      },
      "source": [
        "## Jupyter/Python practice"
      ]
    },
    {
      "cell_type": "markdown",
      "metadata": {
        "id": "sBwRoJwWX7IQ"
      },
      "source": [
        "### General / LaTeX\n",
        "#### Tables\n",
        "\n",
        "||Item A|Item B|\n",
        "|:-|-:|-:|\n",
        "|`set A`|233|103|\n",
        "|`set B`|244|89|\n",
        "\n",
        "#### normális eloszlás standardizációja\n",
        "\n",
        "### $$\\phi: N(0, 1)$$\n",
        "$$F(x)\\to\\phi(\\frac{x-m}{\\sigma})$$\n",
        "\n",
        "#### és sűrűségfüggvénye:\n",
        "\n",
        "$$f(x)=\\frac{1}{\\sigma\\sqrt{2\\pi}}e^{-\\frac{(t-m)^2}{2\\sigma^2}}$$"
      ]
    },
    {
      "cell_type": "code",
      "metadata": {
        "id": "eQI5TB9lcFEC"
      },
      "source": [
        "import sys\n",
        "sys.version_info"
      ],
      "execution_count": null,
      "outputs": []
    },
    {
      "cell_type": "markdown",
      "metadata": {
        "id": "WIcqDc9GbXIk"
      },
      "source": [
        "### String interpolation"
      ]
    },
    {
      "cell_type": "code",
      "metadata": {
        "id": "UsnpS5eIOvwJ"
      },
      "source": [
        "k=math.e\n",
        "num='number'\n",
        "\n",
        "#f'{bool(15)}'\n",
        "\n",
        "print(\"The %s stored as 'k' is %+10.5F sample text\" % (num, k))\n",
        "print(\"The {0} stored as 'k' is {1:+10.5F} sample text\".format(num, k))\n",
        "print(\"The {n} stored as 'k' is {k:+10.5F} sample text\".format(n=num, k=k))\n",
        "\n",
        "# Python 3.6+\n",
        "print(f\"The {num} stored as 'k' is {k:+10.5f} sample text\")"
      ],
      "execution_count": null,
      "outputs": []
    },
    {
      "cell_type": "markdown",
      "metadata": {
        "id": "2ud0DUfqfNbH"
      },
      "source": [
        "### Ciklusok"
      ]
    },
    {
      "cell_type": "code",
      "metadata": {
        "id": "CPaMaJgfQ6Jb"
      },
      "source": [
        "# skaláris szorzat\n",
        "\n",
        "lista=[1,2,3]\n",
        "listb=[2,2,2,8]\n",
        "dotProduct=0.\n",
        "\n",
        "# feltéve, hogy a hiányzó koordináták 0-nak vehetők abban a dimenzióban\n",
        "\n",
        "shorterLength=min(len(lista),len(listb))\n",
        "\n",
        "for i in range(shorterLength):\n",
        "  if i < shorterLength:\n",
        "    dotProduct+=lista[i]*listb[i]\n",
        "\n",
        "print(f'{dotProduct:.2f}')"
      ],
      "execution_count": null,
      "outputs": []
    },
    {
      "cell_type": "markdown",
      "metadata": {
        "id": "eG3-tZ9ReMif"
      },
      "source": [
        "### Dictionaries"
      ]
    },
    {
      "cell_type": "code",
      "metadata": {
        "id": "pKAf_cb_ePSn"
      },
      "source": [
        "dict={'a':1,'b':2,'c':3}\n",
        "\n",
        "for letter, number in dict.items():\n",
        "  print(f'The corresponding value for key {letter} is {number:02b}.')"
      ],
      "execution_count": null,
      "outputs": []
    },
    {
      "cell_type": "markdown",
      "metadata": {
        "id": "-Lw4s8XegzKA"
      },
      "source": [
        "### Functions, methods"
      ]
    },
    {
      "cell_type": "code",
      "metadata": {
        "id": "NBzzArNpg2BA"
      },
      "source": [
        "# List functions and methods of a class via .dir\n",
        "\n",
        "import math\n",
        "\n",
        "i = 0\n",
        "for command in dir(math):\n",
        "  i += 1\n",
        "  print(f'{i:3}: {command}')"
      ],
      "execution_count": null,
      "outputs": []
    },
    {
      "cell_type": "code",
      "metadata": {
        "id": "m5vBkednvL8k"
      },
      "source": [
        "# tapasztalati / korrigált tapasztalati szórás tuple-lel\n",
        "\n",
        "def stdev_population_sample(sample):\n",
        "  n=len(sample)\n",
        "\n",
        "  average=0.0\n",
        "  for item in sample:\n",
        "    average+=item\n",
        "  average/=n\n",
        "\n",
        "  stdev_population=0.0\n",
        "  stdev_sample=0.0\n",
        "  for item in sample:\n",
        "    stdev_population+=pow(average-item,2)\n",
        "  stdev_sample=stdev_population\n",
        "\n",
        "  stdev_population/=n\n",
        "  stdev_sample/=n-1\n",
        "\n",
        "  return(math.sqrt(stdev_population), math.sqrt(stdev_sample))\n",
        "\n",
        "stdev_population_sample([23,26,25,19,23,28,25,25])\n"
      ],
      "execution_count": null,
      "outputs": []
    },
    {
      "cell_type": "markdown",
      "metadata": {
        "id": "jJFKnpR9lsCg"
      },
      "source": [
        "### Classes, OOP"
      ]
    },
    {
      "cell_type": "code",
      "metadata": {
        "id": "PurEhn-Rlu_P"
      },
      "source": [
        "import math\n",
        "\n",
        "class Sample(object):\n",
        "  def __init__(self, description):\n",
        "    self.__description=description\n",
        "    self.__is_mean_changed=False\n",
        "    self.__is_variance_changed=False\n",
        "    self.__is_stdev_changed=False\n",
        "    self.__items=[]\n",
        "    self.__items_new=[]\n",
        "    self.__items_new_count=0\n",
        "    self.__mean=0.0\n",
        "    self.__variance=0.0\n",
        "    self.__stdev=0.0\n",
        "\n",
        "  def __str__(self):\n",
        "    return f'{self.get_description()}\\nSample size: {self.get_sample_size():11d}\\nSample mean: {self.calculate_sample_mean():11.3f}\\nSample stDev: {self.calculate_standard_deviation():10.3f}'\n",
        "  \n",
        "  def add_sample_item(self, item):\n",
        "    self.__items_new.append(item)\n",
        "    self.__is_mean_changed=True\n",
        "    self.__is_variance_changed=True\n",
        "    self.__is_stdev_changed=True\n",
        "\n",
        "  def calculate_sample_mean(self):\n",
        "    if self.__is_mean_changed==True:\n",
        "      n=self.get_sample_size()\n",
        "      k=self.__items_new_count\n",
        "      sum=self.__mean*(n-k)\n",
        "      for i in range(k):\n",
        "        sum+=self.get_sample()[-i-1]\n",
        "      self.__mean=sum/n\n",
        "      self.__items_new_count=0\n",
        "      self.__is_mean_changed=False\n",
        "    return self.__mean\n",
        "\n",
        "  # Korrigált empírikus szórásnégyzet, ha a mintanagyság < 20\n",
        "  def calculate_variance(self):\n",
        "    if self.__is_variance_changed==True:\n",
        "      n=self.get_sample_size()\n",
        "      mean=self.calculate_sample_mean()\n",
        "      sum_of_squares=0\n",
        "      for i in range(n):\n",
        "        sum_of_squares+=math.pow(mean-self.get_sample()[i],2)\n",
        "      if n < 20:\n",
        "        self.__variance=sum_of_squares/(n-1)\n",
        "      else:\n",
        "        self.__variance=sum_of_squares/n\n",
        "      self.__is_variance_changed=False\n",
        "    return self.__variance\n",
        "  \n",
        "  def calculate_standard_deviation(self):\n",
        "    if self.__is_stdev_changed==True:\n",
        "      self.__stdev=math.pow(self.calculate_variance(),0.5)\n",
        "      self.__is_stdev_changed=False\n",
        "    return self.__stdev\n",
        "\n",
        "  def clear_sample(self):\n",
        "    self.__items.clear()\n",
        "    self.__items_new.clear()\n",
        "    self.__items_new_count=0\n",
        "    self.__mean=0.0\n",
        "    self.__variance=0.0\n",
        "    self.__stdev=0.0\n",
        "    self.__is_mean_changed=False\n",
        "    self.__is_variance_changed=False\n",
        "    self.__is_stdev_changed=False\n",
        "\n",
        "  def get_description(self):\n",
        "    return self.__description\n",
        "  \n",
        "  def get_sample(self):\n",
        "    k=len(self.__items_new)\n",
        "    if k > 0:\n",
        "      self.__items.extend(self.__items_new)\n",
        "      self.__items_new_count+=k\n",
        "      self.__items_new.clear()\n",
        "    return self.__items\n",
        "\n",
        "  def get_sample_size(self):\n",
        "    return len(self.get_sample())"
      ],
      "execution_count": null,
      "outputs": []
    },
    {
      "cell_type": "markdown",
      "metadata": {
        "id": "5Gu72WH9UfKK"
      },
      "source": [
        "### Test Sample class"
      ]
    },
    {
      "cell_type": "code",
      "metadata": {
        "id": "6wOS7FFrUh_6",
        "colab": {
          "base_uri": "https://localhost:8080/"
        },
        "outputId": "0ee8a870-c436-45ca-cad4-27f7d2ea547b"
      },
      "source": [
        "\n",
        "import random\n",
        "import time\n",
        "\n",
        "spl=Sample('This is a test sample')\n",
        "spl.clear_sample()\n",
        "\n",
        "experiment=[]\n",
        "experiment_alt=[]\n",
        "for i in range(1000000):\n",
        "  experiment.append(random.randrange(158,193))\n",
        "  experiment_alt.append(random.randrange(151,196))\n",
        "\n",
        "for outcome in experiment:\n",
        "  spl.add_sample_item(outcome)\n",
        "\n",
        "def timing_method():\n",
        "  tick_start=time.perf_counter()\n",
        "  print(f'\\n{spl}')\n",
        "  tick_end=time.perf_counter()\n",
        "  time_elapsed=tick_end-tick_start\n",
        "  print(f'Time elapsed: {time_elapsed:10.3f}')\n",
        "\n",
        "%time\n",
        "timing_method()\n",
        "\n",
        "# hatékonyság tesztelése (caching)\n",
        "for outcome in experiment_alt:\n",
        "  spl.add_sample_item(outcome)\n",
        "\n",
        "timing_method()\n",
        "timing_method()"
      ],
      "execution_count": null,
      "outputs": [
        {
          "output_type": "stream",
          "text": [
            "CPU times: user 3 µs, sys: 0 ns, total: 3 µs\n",
            "Wall time: 10 µs\n",
            "\n",
            "This is a test sample\n",
            "Sample size:     1000000\n",
            "Sample mean:     175.006\n",
            "Sample stDev:     10.108\n",
            "Time elapsed:      0.831\n",
            "\n",
            "This is a test sample\n",
            "Sample size:     2000000\n",
            "Sample mean:     174.004\n",
            "Sample stDev:     11.681\n",
            "Time elapsed:      1.290\n",
            "\n",
            "This is a test sample\n",
            "Sample size:     2000000\n",
            "Sample mean:     174.004\n",
            "Sample stDev:     11.681\n",
            "Time elapsed:      0.000\n"
          ],
          "name": "stdout"
        }
      ]
    },
    {
      "cell_type": "markdown",
      "metadata": {
        "id": "_bH6ybYPhGAK"
      },
      "source": [
        "### I/O"
      ]
    },
    {
      "cell_type": "code",
      "metadata": {
        "id": "10h-xP4QhIuf"
      },
      "source": [
        "v='sample variable'\n",
        "\n",
        "# Open file and close after. 'w' or 'r' sepcifies 'writing' or 'reading'.\n",
        "with open('jptr_log.txt', 'w') as file:\n",
        "  file.write(f'line 1: {v}\\n')\n",
        "  file.write(\"Don't forget to add the line break!\\n\")\n",
        "\n",
        "with open('jptr_log.txt', 'r') as file:\n",
        "  print(file.readline().strip())\n",
        "  print(file.readline())\n",
        "\n",
        "with open('jptr_log.txt', 'r') as file:\n",
        "  print(file.readlines())"
      ],
      "execution_count": null,
      "outputs": []
    },
    {
      "cell_type": "markdown",
      "metadata": {
        "id": "RWwTsbGLkZWw"
      },
      "source": [
        "### matplotlib reminder"
      ]
    },
    {
      "cell_type": "code",
      "metadata": {
        "colab": {
          "base_uri": "https://localhost:8080/",
          "height": 279
        },
        "id": "yww0v4i0klRY",
        "outputId": "0120e3f4-e05a-4d59-e131-29170f310fb9"
      },
      "source": [
        "import matplotlib.pyplot as plt\n",
        "import math\n",
        "\n",
        "x=[i*0.1 for i in range(-40,41)]\n",
        "\n",
        "def standardize_value(x):\n",
        "  return 1/math.pow(2*math.pi, 0.5)*math.pow(math.e, (-math.pow(x, 2)/2))\n",
        "\n",
        "standard_normal_distribution=[standardize_value(i) for i in x]\n",
        "plt.plot(x, standard_normal_distribution, label='f(x): N(0,1)', color='blue', linewidth=1)\n",
        "plt.ylabel('k_i/n/dx_i')\n",
        "plt.xlabel('standardized sample values')\n",
        "plt.legend(loc='upper right')\n",
        "plt.show()"
      ],
      "execution_count": null,
      "outputs": [
        {
          "output_type": "display_data",
          "data": {
            "image/png": "[encoded data removed]",
            "text/plain": [
              "<Figure size 432x288 with 1 Axes>"
            ]
          },
          "metadata": {
            "tags": [],
            "needs_background": "light"
          }
        }
      ]
    },
    {
      "cell_type": "code",
      "metadata": {
        "colab": {
          "base_uri": "https://localhost:8080/",
          "height": 279
        },
        "id": "JJkUR_szvZzP",
        "outputId": "66d256a5-b634-472c-fac6-872cc0e9fb12"
      },
      "source": [
        "x=[i*0.1 for i in range(64)]\n",
        "\n",
        "# quadratic\n",
        "quadratic=[math.pow(i, 2) for i in x]\n",
        "plt.plot(x, quadratic, label='x^2', color='red', linewidth=1)\n",
        "\n",
        "# exponential\n",
        "exponential=[math.exp(i) for i in x]\n",
        "plt.plot(x, exponential, label='e^x', color='blue', linewidth=1)\n",
        "\n",
        "# logarithmic\n",
        "logarithmic=[math.log(i+0.01, math.e) for i in x]\n",
        "plt.plot(x, logarithmic, label='ln x', color='green', linewidth=1)\n",
        "\n",
        "plt.ylabel('y')\n",
        "plt.xlabel('x')\n",
        "plt.legend(loc='upper right')\n",
        "plt.show()"
      ],
      "execution_count": null,
      "outputs": [
        {
          "output_type": "display_data",
          "data": {
            "image/png": "[encoded data removed]",
            "text/plain": [
              "<Figure size 432x288 with 1 Axes>"
            ]
          },
          "metadata": {
            "tags": [],
            "needs_background": "light"
          }
        }
      ]
    },
    {
      "cell_type": "markdown",
      "metadata": {
        "id": "nG8f51FBuJR1"
      },
      "source": [
        "### Console input"
      ]
    },
    {
      "cell_type": "code",
      "metadata": {
        "colab": {
          "base_uri": "https://localhost:8080/"
        },
        "id": "Y1MDSAMTuM-7",
        "outputId": "4c080668-6199-42f1-bac6-b01bad5a29b4"
      },
      "source": [
        "import getpass as pw\n",
        "\n",
        "power_word = pw.getpass('Type in your password')\n",
        "print(power_word[4:8])\n",
        "\n",
        "power_phrase = input()\n",
        "print(power_phrase[4:8])"
      ],
      "execution_count": 14,
      "outputs": [
        {
          "output_type": "stream",
          "text": [
            "Type in your password··········\n",
            "ired\n",
            "inspired\n",
            "ired\n"
          ],
          "name": "stdout"
        }
      ]
    }
  ]
}
